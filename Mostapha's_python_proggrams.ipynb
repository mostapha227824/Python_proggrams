{
  "cells": [
    {
      "cell_type": "markdown",
      "source": [
        "# Mostapha Abdulaziz Abdullah"
      ],
      "metadata": {
        "id": "PlPApFhQO7kI"
      }
    },
    {
      "cell_type": "markdown",
      "metadata": {
        "id": "prlyem8VQZtu"
      },
      "source": [
        "# Practice    \n",
        "# Enjoy^_^"
      ]
    },
    {
      "cell_type": "markdown",
      "metadata": {
        "id": "PnHbxwCpQZtw"
      },
      "source": [
        "# 1. Python Flow Control"
      ]
    },
    {
      "cell_type": "markdown",
      "metadata": {
        "id": "mAUmZ0B7QZtw"
      },
      "source": [
        "## 1. Write a Python program to find those numbers which are divisible by 7 and multiples of 5, between 1500 and 2700 (both included).\n",
        "\n",
        "\n",
        "\n"
      ]
    },
    {
      "cell_type": "code",
      "execution_count": null,
      "metadata": {
        "colab": {
          "base_uri": "https://localhost:8080/"
        },
        "id": "xMjw6M7_QZtw",
        "outputId": "190b8ea1-3ed5-4600-dc73-1290576a0985"
      },
      "outputs": [
        {
          "output_type": "stream",
          "name": "stdout",
          "text": [
            "[1505, 1540, 1575, 1610, 1645, 1680, 1715, 1750, 1785, 1820, 1855, 1890, 1925, 1960, 1995, 2030, 2065, 2100, 2135, 2170, 2205, 2240, 2275, 2310, 2345, 2380, 2415, 2450, 2485, 2520, 2555, 2590, 2625, 2660, 2695]\n"
          ]
        }
      ],
      "source": [
        "start = 1500\n",
        "end = 2700\n",
        "result = []\n",
        "\n",
        "while start <= end:\n",
        "    if start % 7 == 0 and start % 5 == 0:\n",
        "        result.append(start)\n",
        "    start += 1\n",
        "print(result)"
      ]
    },
    {
      "cell_type": "markdown",
      "metadata": {
        "id": "KokO6QI-QZtx"
      },
      "source": [
        "## 2. Write a Python program to guess a number between 1 and 9.\n",
        "Note : User is prompted to enter a guess. If the user guesses wrong then the prompt appears again until the guess is correct, on successful guess, user will get a \"Well guessed!\" message, and the program will exit."
      ]
    },
    {
      "cell_type": "code",
      "execution_count": null,
      "metadata": {
        "colab": {
          "base_uri": "https://localhost:8080/"
        },
        "id": "dZrjPqhPQZtx",
        "outputId": "9031a11b-6225-46ac-8373-0c54e57168c8"
      },
      "outputs": [
        {
          "output_type": "stream",
          "name": "stdout",
          "text": [
            "Guess a number between 1 and 9:\n",
            "Enter your guess: 3\n",
            "Try again!\n",
            "Enter your guess: 5\n",
            "Try again!\n",
            "Enter your guess: 1\n",
            "Well guessed!\n"
          ]
        }
      ],
      "source": [
        "import random\n",
        "\n",
        "target = random.randint(1, 9)\n",
        "guessed = False\n",
        "\n",
        "print(\"enter number between 1 and 9:\")\n",
        "\n",
        "while not guessed:\n",
        "    guess = int(input(\"Enter your no: \"))\n",
        "    if guess == target:\n",
        "        print(\"well guessed!\")\n",
        "        guessed = True\n",
        "    else:\n",
        "        print(\"Try again!\")"
      ]
    },
    {
      "cell_type": "markdown",
      "metadata": {
        "id": "2hbkL1PZQZty"
      },
      "source": [
        "## 3. Write a Python program that prints all the numbers from 0 to 6 except 3 and 6.\n",
        "Note : Use 'continue' statement.\n",
        "Expected Output : 0 1 2 4 5\n"
      ]
    },
    {
      "cell_type": "code",
      "source": [
        "for i in range(7):\n",
        "    if i == 3 or i == 6:\n",
        "        continue\n",
        "    print(i, end=\" \")"
      ],
      "metadata": {
        "colab": {
          "base_uri": "https://localhost:8080/"
        },
        "id": "HF60MrbtRfe0",
        "outputId": "5b6e942c-cd14-4a8f-c235-b691d1920136"
      },
      "execution_count": null,
      "outputs": [
        {
          "output_type": "stream",
          "name": "stdout",
          "text": [
            "0 1 2 4 5 "
          ]
        }
      ]
    },
    {
      "cell_type": "markdown",
      "metadata": {
        "id": "Hh9MlMjbQZty"
      },
      "source": [
        "## 4. Write a Python program to construct the following pattern, using a nested for loop.\n",
        "```\n",
        "*\n",
        "* *\n",
        "* * *\n",
        "* * * *\n",
        "* * * * *\n",
        "* * * *\n",
        "* * *\n",
        "* *\n",
        "*\n",
        "```"
      ]
    },
    {
      "cell_type": "code",
      "source": [
        "#upper section\n",
        "for i in range(1, 6):\n",
        "    for j in range(i):\n",
        "        print(\"*\", end=\" \")\n",
        "    print()\n",
        "\n",
        "#lower section\n",
        "for i in range(4, 0, -1):\n",
        "    for j in range(i):\n",
        "        print(\"*\", end=\" \")\n",
        "    print()"
      ],
      "metadata": {
        "colab": {
          "base_uri": "https://localhost:8080/"
        },
        "id": "BF_C8sl4ShKH",
        "outputId": "b9b272a7-b652-45ce-b70f-c6cc58cacdc6"
      },
      "execution_count": null,
      "outputs": [
        {
          "output_type": "stream",
          "name": "stdout",
          "text": [
            "* \n",
            "* * \n",
            "* * * \n",
            "* * * * \n",
            "* * * * * \n",
            "* * * * \n",
            "* * * \n",
            "* * \n",
            "* \n"
          ]
        }
      ]
    },
    {
      "cell_type": "code",
      "execution_count": null,
      "metadata": {
        "colab": {
          "base_uri": "https://localhost:8080/"
        },
        "id": "_3ShJ8ipQZty",
        "outputId": "4983c7fe-c4c8-464e-98c7-4d82d19162bc"
      },
      "outputs": [
        {
          "output_type": "stream",
          "name": "stdout",
          "text": [
            "    * \n",
            "   * * \n",
            "  * * * \n",
            " * * * * \n",
            "* * * * * \n",
            " * * * * \n",
            "  * * * \n",
            "   * * \n",
            "    * \n"
          ]
        }
      ],
      "source": [
        "n = 5\n",
        "for i in range(n):\n",
        "    print(\" \" * (n - i - 1) + \"* \" * (i + 1))\n",
        "for i in range(n - 1, 0, -1):\n",
        "    print(\" \" * (n - i) + \"* \" * i)"
      ]
    },
    {
      "cell_type": "markdown",
      "metadata": {
        "id": "TgW-cQZUQZty"
      },
      "source": [
        "## 5. Write a Python program that accepts a word from the user and reverses it.\n",
        "\n"
      ]
    },
    {
      "cell_type": "code",
      "source": [
        "word = input(\"enter a word: \")\n",
        "reversed_word = \"\"\n",
        "for i in range(len(word) - 1, -1, -1):\n",
        "    reversed_word += word[i]\n",
        "print(\"reversed word:\", reversed_word)"
      ],
      "metadata": {
        "colab": {
          "base_uri": "https://localhost:8080/"
        },
        "id": "UJ7c8skPSwuA",
        "outputId": "ae8e7091-15cc-4c35-faeb-6e07ab71c250"
      },
      "execution_count": null,
      "outputs": [
        {
          "output_type": "stream",
          "name": "stdout",
          "text": [
            "enter a word: mostapha\n",
            "reversed word: ahpatsom\n"
          ]
        }
      ]
    },
    {
      "cell_type": "markdown",
      "metadata": {
        "id": "uSCHQn5nQZtz"
      },
      "source": [
        "## 6. Write a Python program to count the number of even and odd numbers in a series of numbers\n",
        "Sample numbers : numbers = (1, 2, 3, 4, 5, 6, 7, 8, 9)\n",
        "\n",
        "Expected Output :\n",
        "\n",
        "Number of even numbers : 4\n",
        "\n",
        "Number of odd numbers : 5"
      ]
    },
    {
      "cell_type": "code",
      "execution_count": null,
      "metadata": {
        "colab": {
          "base_uri": "https://localhost:8080/"
        },
        "id": "SwaLSnSIQZtz",
        "outputId": "1c30c3ee-036c-46f1-9993-b540c0f019f2"
      },
      "outputs": [
        {
          "output_type": "stream",
          "name": "stdout",
          "text": [
            "number of even numbers: 6\n",
            "number of odd numbers: 8\n"
          ]
        }
      ],
      "source": [
        "numbers = (23, 1,24, 2, 4, 5, 6, 7,123,324,99, 923, 8, 9)\n",
        "even_count = 0\n",
        "odd_count = 0\n",
        "\n",
        "for num in numbers:\n",
        "    if num % 2 == 0:\n",
        "        even_count += 1\n",
        "    else:\n",
        "        odd_count += 1\n",
        "\n",
        "print(\"number of even numbers:\", even_count)\n",
        "print(\"number of odd numbers:\", odd_count)"
      ]
    },
    {
      "cell_type": "markdown",
      "metadata": {
        "id": "M_qzxpY8QZtz"
      },
      "source": [
        "## 7. Write a Python program to print the the first alphabet pattern 'A-Z' in your name .\n",
        "for example  Expected Output:\n",
        "\n",
        "\n",
        "```\n",
        "  ***                                                                   \n",
        " *   *                                                                  \n",
        " *   *                                                                  \n",
        " *****                                                                  \n",
        " *   *                                                                  \n",
        " *   *                                                                  \n",
        " *   *\n",
        "```"
      ]
    },
    {
      "cell_type": "code",
      "execution_count": null,
      "metadata": {
        "colab": {
          "base_uri": "https://localhost:8080/"
        },
        "id": "_cDkO3w8QZtz",
        "outputId": "e1a8de25-edb8-4af3-e37d-90b34200d022"
      },
      "outputs": [
        {
          "output_type": "stream",
          "name": "stdout",
          "text": [
            "*   *\n",
            "** **\n",
            "* * *\n",
            "*   *\n",
            "*   *\n",
            "\n",
            " *** \n",
            "*   *\n",
            "*   *\n",
            "*   *\n",
            " *** \n",
            "\n",
            " ****\n",
            "*    \n",
            " *** \n",
            "    *\n",
            "**** \n",
            "\n",
            "*****\n",
            "  *  \n",
            "  *  \n",
            "  *  \n",
            "  *  \n",
            "\n",
            "  *  \n",
            " * * \n",
            "*****\n",
            "*   *\n",
            "*   *\n",
            "\n",
            "**** \n",
            "*   *\n",
            "**** \n",
            "*    \n",
            "*    \n",
            "\n",
            "*   *\n",
            "*   *\n",
            "*****\n",
            "*   *\n",
            "*   *\n",
            "\n",
            "  *  \n",
            " * * \n",
            "*****\n",
            "*   *\n",
            "*   *\n",
            "\n"
          ]
        }
      ],
      "source": [
        "name = \"MOSTAPHA\"\n",
        "\n",
        "for letter in name:\n",
        "    if letter == \"M\":\n",
        "        print(\"*   *\")\n",
        "        print(\"** **\")\n",
        "        print(\"* * *\")\n",
        "        print(\"*   *\")\n",
        "        print(\"*   *\")\n",
        "        print()\n",
        "\n",
        "    elif letter == \"O\":\n",
        "        print(\" *** \")\n",
        "        print(\"*   *\")\n",
        "        print(\"*   *\")\n",
        "        print(\"*   *\")\n",
        "        print(\" *** \")\n",
        "        print()\n",
        "\n",
        "    elif letter == \"S\":\n",
        "        print(\" ****\")\n",
        "        print(\"*    \")\n",
        "        print(\" *** \")\n",
        "        print(\"    *\")\n",
        "        print(\"**** \")\n",
        "        print()\n",
        "\n",
        "    elif letter == \"T\":\n",
        "        print(\"*****\")\n",
        "        print(\"  *  \")\n",
        "        print(\"  *  \")\n",
        "        print(\"  *  \")\n",
        "        print(\"  *  \")\n",
        "        print()\n",
        "\n",
        "    elif letter == \"A\":\n",
        "        print(\"  *  \")\n",
        "        print(\" * * \")\n",
        "        print(\"*****\")\n",
        "        print(\"*   *\")\n",
        "        print(\"*   *\")\n",
        "        print()\n",
        "\n",
        "    elif letter == \"P\":\n",
        "        print(\"**** \")\n",
        "        print(\"*   *\")\n",
        "        print(\"**** \")\n",
        "        print(\"*    \")\n",
        "        print(\"*    \")\n",
        "        print()\n",
        "\n",
        "    elif letter == \"H\":\n",
        "        print(\"*   *\")\n",
        "        print(\"*   *\")\n",
        "        print(\"*****\")\n",
        "        print(\"*   *\")\n",
        "        print(\"*   *\")\n",
        "        print()\n",
        "\n",
        "    elif letter == \"A\":\n",
        "        print(\"  *  \")\n",
        "        print(\" * * \")\n",
        "        print(\"*****\")\n",
        "        print(\"*   *\")\n",
        "        print(\"*   *\")\n",
        "        print()\n"
      ]
    },
    {
      "cell_type": "markdown",
      "metadata": {
        "id": "OBkTGW0aQZtz"
      },
      "source": [
        "## 8.  Write a Python program to construct the following pattern, using a nested loop number.\n",
        "Expected Output:\n",
        "\n",
        "\n",
        "``\n",
        "1\n",
        "22\n",
        "333\n",
        "4444\n",
        "55555\n",
        "666666\n",
        "7777777\n",
        "88888888\n",
        "999999999\n",
        "``"
      ]
    },
    {
      "cell_type": "code",
      "execution_count": null,
      "metadata": {
        "colab": {
          "base_uri": "https://localhost:8080/"
        },
        "id": "69chH4S9QZtz",
        "outputId": "bfa80915-a345-4429-cd54-699a775aa38e"
      },
      "outputs": [
        {
          "output_type": "stream",
          "name": "stdout",
          "text": [
            "1 22 333 4444 55555 666666 7777777 88888888 999999999 "
          ]
        }
      ],
      "source": [
        "for i in range(1, 10):\n",
        "    for j in range(i):\n",
        "        print(i, end=\"\")\n",
        "    print(\" \", end=\"\")"
      ]
    },
    {
      "cell_type": "markdown",
      "metadata": {
        "id": "_Mm1-i8JQZt0"
      },
      "source": [
        "## 9. Write a Python program to create the multiplication table (from 1 to 10) of a number.\n",
        "Expected Output:\n",
        "\n",
        "Input a number: 6                                                       \n",
        "6 x 1 = 6                                                               \n",
        "6 x 2 = 12                                                              \n",
        "6 x 3 = 18                                                              \n",
        "6 x 4 = 24                                                              \n",
        "6 x 5 = 30                                                              \n",
        "6 x 6 = 36                                                              \n",
        "6 x 7 = 42                                                              \n",
        "6 x 8 = 48                                                              \n",
        "6 x 9 = 54                                                              \n",
        "6 x 10 = 60\n"
      ]
    },
    {
      "cell_type": "code",
      "execution_count": null,
      "metadata": {
        "colab": {
          "base_uri": "https://localhost:8080/"
        },
        "id": "L9rh8RlRQZt0",
        "outputId": "868b415b-f481-459e-8f2e-2f7acf6e0e95"
      },
      "outputs": [
        {
          "output_type": "stream",
          "name": "stdout",
          "text": [
            "Input a number: 6\n",
            "6 x 1 = 6\n",
            "6 x 2 = 12\n",
            "6 x 3 = 18\n",
            "6 x 4 = 24\n",
            "6 x 5 = 30\n",
            "6 x 6 = 36\n",
            "6 x 7 = 42\n",
            "6 x 8 = 48\n",
            "6 x 9 = 54\n",
            "6 x 10 = 60\n"
          ]
        }
      ],
      "source": [
        "num = int(input(\"entr a number: \"))\n",
        "\n",
        "for i in range(1, 11):\n",
        "    print(f\"{num} x {i} = {num * i}\")\n"
      ]
    },
    {
      "cell_type": "markdown",
      "metadata": {
        "id": "fpxuH57gQZt0"
      },
      "source": [
        "## 10. Write a Python program to calculate the sum and average of n integer numbers (input from the user). Input 0 to finish."
      ]
    },
    {
      "cell_type": "code",
      "execution_count": 1,
      "metadata": {
        "colab": {
          "base_uri": "https://localhost:8080/"
        },
        "id": "PD-KWb_TQZt0",
        "outputId": "f130deee-6d75-47b4-cbbf-08344ed0efed"
      },
      "outputs": [
        {
          "output_type": "stream",
          "name": "stdout",
          "text": [
            "enter a number (0 to finish): 12\n",
            "enter a number (0 to finish): 0\n",
            "Sum: 12\n",
            "Average: 12.0\n"
          ]
        }
      ],
      "source": [
        "total = 0\n",
        "count = 0\n",
        "\n",
        "while True:\n",
        "    num = int(input(\"enter a number 0 to finish\"))\n",
        "\n",
        "    if num == 0:\n",
        "        break\n",
        "    total += num\n",
        "    count += 1\n",
        "if count > 0:\n",
        "    average = total / count\n",
        "    print(\"Sum:\", total)\n",
        "    print(\"Average:\", average)\n",
        "else:\n",
        "    print(\"no entry.\")"
      ]
    },
    {
      "cell_type": "markdown",
      "metadata": {
        "id": "49wr3D5fQZt0"
      },
      "source": [
        "# 11-Python Program to Print the Fibonacci sequence\n",
        "\n",
        "The Fibonacci numbers are the numbers in the following integer sequence. 0, 1, 1, 2, 3, 5, 8, 13, 21, 34, 55, 89, 144, â€¦â€¦.. In mathematical terms, the sequence Fn of Fibonacci numbers is defined by the recurrence relation.\n",
        "\n",
        "\n",
        "![image.png](attachment:image.png)"
      ]
    },
    {
      "cell_type": "code",
      "source": [
        "n = int(input(\"enter the number of terms: \"))\n",
        "a, b = 0, 1\n",
        "print(\"fibonacci sequence:\")\n",
        "for _ in range(n):\n",
        "    print(a, end=\" \")\n",
        "    a, b = b, a + b"
      ],
      "metadata": {
        "colab": {
          "base_uri": "https://localhost:8080/"
        },
        "id": "jkKCNv4zUoMC",
        "outputId": "11d0d5c9-37fc-4086-c84e-4bccd4b57575"
      },
      "execution_count": null,
      "outputs": [
        {
          "output_type": "stream",
          "name": "stdout",
          "text": [
            "Enter the number of terms: 12\n",
            "Fibonacci sequence:\n",
            "0 1 1 2 3 5 8 13 21 34 55 89 "
          ]
        }
      ]
    },
    {
      "cell_type": "markdown",
      "metadata": {
        "id": "88W9BgLUQZt0"
      },
      "source": [
        "# Finding the Maximum Value in a List"
      ]
    },
    {
      "cell_type": "code",
      "execution_count": null,
      "metadata": {
        "colab": {
          "base_uri": "https://localhost:8080/"
        },
        "id": "1YOWmoxfQZt0",
        "outputId": "5fe61c3d-27b3-4408-e31b-62719a31027d"
      },
      "outputs": [
        {
          "output_type": "stream",
          "name": "stdout",
          "text": [
            "the maximum value is: 342\n"
          ]
        }
      ],
      "source": [
        "numbers = [1, 20, 4, 45,234,342,22, 99]\n",
        "max = numbers[0]\n",
        "for num in numbers:\n",
        "    if num > max:\n",
        "        max = num\n",
        "print(\"the maximum value is:\", max)"
      ]
    },
    {
      "cell_type": "markdown",
      "metadata": {
        "id": "U9YJpEUVQZt1"
      },
      "source": [
        "# Counting Vowels in a String"
      ]
    },
    {
      "cell_type": "code",
      "execution_count": null,
      "metadata": {
        "colab": {
          "base_uri": "https://localhost:8080/"
        },
        "id": "ccm6vr4HQZt1",
        "outputId": "b4de4ad2-bb04-425c-caad-08697ad96ad3"
      },
      "outputs": [
        {
          "output_type": "stream",
          "name": "stdout",
          "text": [
            "no of vowels: 10\n"
          ]
        }
      ],
      "source": [
        "text = \"mostapha abdulaziz abdullah\"\n",
        "count = 0\n",
        "vowels = \"aeiou\"\n",
        "\n",
        "for char in text:\n",
        "    is_vowel = False\n",
        "    for vowel in vowels:\n",
        "        if char == vowel:\n",
        "            is_vowel = True\n",
        "            break\n",
        "    if is_vowel:\n",
        "        count += 1\n",
        "print(\"no of vowels:\", count)"
      ]
    },
    {
      "cell_type": "markdown",
      "metadata": {
        "id": "xqaeEMeVQZt1"
      },
      "source": [
        "# Finding Prime Numbers within a Range"
      ]
    },
    {
      "cell_type": "code",
      "execution_count": null,
      "metadata": {
        "colab": {
          "base_uri": "https://localhost:8080/"
        },
        "id": "FSJF8wOzQZt1",
        "outputId": "cd66f015-3645-4419-c8ac-13dd7fd892d8"
      },
      "outputs": [
        {
          "output_type": "stream",
          "name": "stdout",
          "text": [
            "enter the starting number: 1\n",
            "enter the ending number: 44\n",
            "2 3 5 7 11 13 17 19 23 29 31 37 41 43 "
          ]
        }
      ],
      "source": [
        "start = int(input(\"enter the starting number: \"))\n",
        "end = int(input(\"enter the ending number: \"))\n",
        "for num in range(start, end + 1):\n",
        "\n",
        "    is_prime = True\n",
        "    for i in range(2, num):\n",
        "        if num % i == 0:\n",
        "            is_prime = False\n",
        "            break\n",
        "    if is_prime and num > 1:\n",
        "        print(num, end=\" \")"
      ]
    },
    {
      "cell_type": "markdown",
      "metadata": {
        "id": "OusEJiyWQZt1"
      },
      "source": [
        "# A Program that Simulating a Basic ATM Withdrawal"
      ]
    },
    {
      "cell_type": "code",
      "execution_count": 2,
      "metadata": {
        "colab": {
          "base_uri": "https://localhost:8080/"
        },
        "id": "kaWIhteMQZt1",
        "outputId": "eea2a285-7029-4219-bb29-075bae22e6d4"
      },
      "outputs": [
        {
          "output_type": "stream",
          "name": "stdout",
          "text": [
            "1.deposit\n",
            "2.withdraw\n",
            "3.check Balance\n",
            "4.exit\n",
            "enter the number for operartion (1/2/3/4): 1\n",
            "enter amount to deposit: 233\n",
            "deposited: 233. current balance: 233\n",
            "enter the number for operartion (1/2/3/4): 1\n",
            "enter amount to deposit: 232\n",
            "deposited: 232. current balance: 465\n",
            "enter the number for operartion (1/2/3/4): 2\n",
            "enter amount to withdraw: 123\n",
            "withdrawn: 123. current balance: 342\n",
            "enter the number for operartion (1/2/3/4): 4\n",
            "exiting....\n"
          ]
        }
      ],
      "source": [
        "balance = 0\n",
        "print(\"1.deposit\")\n",
        "print(\"2.withdraw\")\n",
        "print(\"3.check Balance\")\n",
        "print(\"4.exit\")\n",
        "\n",
        "\n",
        "while True:\n",
        "\n",
        "    operations = int(input(\"enter the number for operartion (1/2/3/4): \"))\n",
        "\n",
        "    if operations == 1:\n",
        "        amount = int(input(\"enter amount to deposit: \"))\n",
        "        balance = balance + amount\n",
        "        print(f\"deposited: {amount}. current balance: {balance}\")\n",
        "\n",
        "    elif operations == 2:\n",
        "        amount = int(input(\"enter amount to withdraw: \"))\n",
        "        if amount <= balance:\n",
        "            balance = balance - amount\n",
        "            print(f\"withdrawn: {amount}. current balance: {balance}\")\n",
        "        else:\n",
        "            print(\"err.\")\n",
        "\n",
        "    elif operations == 3:\n",
        "        print(f\"your current balance is: {balance}\")\n",
        "\n",
        "    elif operations == 4:\n",
        "        print(\"exiting....\")\n",
        "        break\n",
        "    else:\n",
        "        print(\"invalid operations\")\n"
      ]
    },
    {
      "cell_type": "markdown",
      "metadata": {
        "id": "R7-oha69QZt1"
      },
      "source": [
        "# Finding Common Elements in Two Lists"
      ]
    },
    {
      "cell_type": "code",
      "execution_count": 3,
      "metadata": {
        "colab": {
          "base_uri": "https://localhost:8080/"
        },
        "id": "HFaBiPN1QZt1",
        "outputId": "110d244c-ba55-436d-a4c6-73e4f74af98f"
      },
      "outputs": [
        {
          "output_type": "stream",
          "name": "stdout",
          "text": [
            "Common elements: [5, 3, 2, 4]\n"
          ]
        }
      ],
      "source": [
        "list1 = [5, 3, 2, 4, 12]\n",
        "list2 = [4, 5, 6, 3, 2]\n",
        "\n",
        "common_Nums = []\n",
        "\n",
        "for item in list1:\n",
        "    if item in list2:\n",
        "        common_Nums.append(item)\n",
        "\n",
        "print(\"Common elements:\", common_Nums)"
      ]
    },
    {
      "cell_type": "markdown",
      "metadata": {
        "id": "DO0JsIt1QZt1"
      },
      "source": [
        "# Calculating Factorial of a Number"
      ]
    },
    {
      "cell_type": "code",
      "source": [
        "list1 = [5, 3, 2, 4, 12]\n",
        "list2 = [4, 5, 6, 3, 2]\n",
        "common_elements = []\n",
        "for item in list1:\n",
        "    if item in list2:\n",
        "        common_elements.append(item)\n",
        "\n",
        "print(\"Common elements:\", common_elements)"
      ],
      "metadata": {
        "colab": {
          "base_uri": "https://localhost:8080/"
        },
        "id": "MrJMCRo1VpY0",
        "outputId": "399d5dc8-0d8a-42cc-a55f-ecb7296953b5"
      },
      "execution_count": 4,
      "outputs": [
        {
          "output_type": "stream",
          "name": "stdout",
          "text": [
            "Common elements: [5, 3, 2, 4]\n"
          ]
        }
      ]
    },
    {
      "cell_type": "markdown",
      "metadata": {
        "id": "DrJ3pkd6QZt1"
      },
      "source": [
        "# Validating User Input with While Loop"
      ]
    },
    {
      "cell_type": "code",
      "source": [
        "while True:\n",
        "    user_input = input(\"enter a positive number: \")\n",
        "\n",
        "    if user_input.isdigit() and int(user_input) > 0:\n",
        "        print(f\"Valid input: {user_input}\")\n",
        "        break\n",
        "    else:\n",
        "        print(\"invalid input! Please enter a positive number.\")"
      ],
      "metadata": {
        "colab": {
          "base_uri": "https://localhost:8080/"
        },
        "id": "skF_RMJrVq5Q",
        "outputId": "f50df734-fd1d-449a-87a5-773d392ca1e0"
      },
      "execution_count": 5,
      "outputs": [
        {
          "output_type": "stream",
          "name": "stdout",
          "text": [
            "enter a positive number: 32\n",
            "Valid input: 32\n"
          ]
        }
      ]
    },
    {
      "cell_type": "markdown",
      "metadata": {
        "id": "y5Rkm1kUQZt1"
      },
      "source": [
        "# Finding the Sum of Digits of a Number"
      ]
    },
    {
      "cell_type": "code",
      "source": [
        "num = int(input(\"Enter a number: \"))\n",
        "sum = 0\n",
        "\n",
        "while num > 0:\n",
        "    sum += num % 10\n",
        "    num //= 10\n",
        "\n",
        "print(\"The sum is:\", sum)"
      ],
      "metadata": {
        "colab": {
          "base_uri": "https://localhost:8080/"
        },
        "id": "n4CAyXOtVsDp",
        "outputId": "f9ac561d-0641-4a03-a994-007bca190b5d"
      },
      "execution_count": 2,
      "outputs": [
        {
          "output_type": "stream",
          "name": "stdout",
          "text": [
            "Enter a number: 32\n",
            "The sum is: 5\n",
            "Enter a number: 12\n",
            "The sum is: 3\n"
          ]
        }
      ]
    },
    {
      "cell_type": "markdown",
      "metadata": {
        "id": "NBB3jJ2JQZt2"
      },
      "source": [
        "# Checking for Palindrome Strings"
      ]
    },
    {
      "cell_type": "code",
      "source": [
        "string = input(\"Enter a string: \")\n",
        "if string == string[::-1]:\n",
        "    print(\"the string is a palindrome.\")\n",
        "else:\n",
        "    print(\"the string is not a palindrome.\")"
      ],
      "metadata": {
        "colab": {
          "base_uri": "https://localhost:8080/"
        },
        "id": "ehWQQjL0Vs2x",
        "outputId": "0a5713a4-59de-43c2-84f9-c2bad2d99226"
      },
      "execution_count": null,
      "outputs": [
        {
          "output_type": "stream",
          "name": "stdout",
          "text": [
            "Enter a string: mostapha \n",
            "the string is not a palindrome.\n"
          ]
        }
      ]
    },
    {
      "cell_type": "markdown",
      "metadata": {
        "id": "OA4O8ZzOQZt2"
      },
      "source": [
        "# Creating a Dictionary from Two Lists"
      ]
    },
    {
      "cell_type": "code",
      "source": [
        "keys = ['a', 'b', 'c', 'd']\n",
        "values = [1, 2, 3, 4]\n",
        "result = {keys[i]: values[i] for i in range(len(keys))}\n",
        "print(\"the dictionary is:\", result)"
      ],
      "metadata": {
        "colab": {
          "base_uri": "https://localhost:8080/"
        },
        "id": "nhXcUP15VtdU",
        "outputId": "592dbeec-b096-4f96-8fb7-973b622cc69e"
      },
      "execution_count": null,
      "outputs": [
        {
          "output_type": "stream",
          "name": "stdout",
          "text": [
            "the dictionary is: {'a': 1, 'b': 2, 'c': 3, 'd': 4}\n"
          ]
        }
      ]
    },
    {
      "cell_type": "markdown",
      "metadata": {
        "id": "I-L467X3QZt2"
      },
      "source": [
        "# Simulating a Simple Password Check"
      ]
    },
    {
      "cell_type": "code",
      "source": [
        "password = \"mypassword\"\n",
        "user_input = input(\"Enter the password: \")\n",
        "if user_input == password:\n",
        "    print(\"access granted\")\n",
        "else:\n",
        "    print(\"access denied\")"
      ],
      "metadata": {
        "colab": {
          "base_uri": "https://localhost:8080/"
        },
        "id": "9w08-3vTVvty",
        "outputId": "c0f2c64f-a0a0-49fa-c952-323c17a6e0e4"
      },
      "execution_count": null,
      "outputs": [
        {
          "output_type": "stream",
          "name": "stdout",
          "text": [
            "Enter the password: mypassword\n",
            "access granted\n"
          ]
        }
      ]
    },
    {
      "cell_type": "markdown",
      "metadata": {
        "id": "hPlQDxGwQZt2"
      },
      "source": [
        "# Generating a Multiplication Table for a Given Number"
      ]
    },
    {
      "cell_type": "code",
      "source": [
        "num = int(input(\"Enter a number: \"))\n",
        "for i in range(1, 11):\n",
        "    print(f\"{num} x {i} = {num * i}\")"
      ],
      "metadata": {
        "colab": {
          "base_uri": "https://localhost:8080/"
        },
        "id": "Ez5Q674OVwvq",
        "outputId": "8c488271-4a5c-4697-f8f0-d1671e1c1cc0"
      },
      "execution_count": null,
      "outputs": [
        {
          "output_type": "stream",
          "name": "stdout",
          "text": [
            "Enter a number: 1232\n",
            "1232 x 1 = 1232\n",
            "1232 x 2 = 2464\n",
            "1232 x 3 = 3696\n",
            "1232 x 4 = 4928\n",
            "1232 x 5 = 6160\n",
            "1232 x 6 = 7392\n",
            "1232 x 7 = 8624\n",
            "1232 x 8 = 9856\n",
            "1232 x 9 = 11088\n",
            "1232 x 10 = 12320\n"
          ]
        }
      ]
    },
    {
      "cell_type": "markdown",
      "metadata": {
        "id": "VlElpjfEg4ao"
      },
      "source": [
        "# Calculating Average of Numbers Using Functions"
      ]
    },
    {
      "cell_type": "code",
      "execution_count": null,
      "metadata": {
        "colab": {
          "base_uri": "https://localhost:8080/"
        },
        "id": "ojwwKEUQg4ao",
        "outputId": "462906b2-c072-45bf-ab08-619b7ce22ed9"
      },
      "outputs": [
        {
          "output_type": "stream",
          "name": "stdout",
          "text": [
            " average of the numbers is: 110.8\n"
          ]
        }
      ],
      "source": [
        "def calculate_average(nums):\n",
        "    return sum(nums) / len(nums)\n",
        "numbers = [34, 22, 230, 34, 234]\n",
        "average = calculate_average(numbers)\n",
        "print(f\" average of the numbers is: {average}\")"
      ]
    },
    {
      "cell_type": "markdown",
      "metadata": {
        "id": "OkQhpqIgg4ao"
      },
      "source": [
        "# Finding the Longest Word in a List"
      ]
    },
    {
      "cell_type": "code",
      "source": [
        "def find_l_w(words):\n",
        "    return max(words, key=len)\n",
        "\n",
        "words = [\"Ahmed\", \"Jack\", \"Mostapha\"]\n",
        "longest_word = find_l_w(words)\n",
        "print(f\"the longest word is: {longest_word}\")"
      ],
      "metadata": {
        "colab": {
          "base_uri": "https://localhost:8080/"
        },
        "id": "Q-WXxDkeiKu1",
        "outputId": "4c9bdcc0-a71b-4d1f-aad4-a71899a09d7c"
      },
      "execution_count": null,
      "outputs": [
        {
          "output_type": "stream",
          "name": "stdout",
          "text": [
            "the longest word is: Mostapha\n"
          ]
        }
      ]
    },
    {
      "cell_type": "markdown",
      "metadata": {
        "id": "ywUkQok7g4ao"
      },
      "source": [
        "# Checking if a Number is Prime"
      ]
    },
    {
      "cell_type": "code",
      "source": [
        "def is_prime(n):\n",
        "    if n <= 1:\n",
        "        return False\n",
        "    for i in range(2, int(n ** 0.5) + 1):\n",
        "        if n % i == 0:\n",
        "            return False\n",
        "    return True\n",
        "number = 234\n",
        "if is_prime(number):\n",
        "    print(f\"{number} is a prime number.\")\n",
        "else:\n",
        "    print(f\"{number} is not a prime number.\")"
      ],
      "metadata": {
        "colab": {
          "base_uri": "https://localhost:8080/"
        },
        "id": "T4IMCYeZiLIF",
        "outputId": "10a7db28-2438-46e9-f064-d71e03d3617c"
      },
      "execution_count": null,
      "outputs": [
        {
          "output_type": "stream",
          "name": "stdout",
          "text": [
            "234 is not a prime number.\n"
          ]
        }
      ]
    },
    {
      "cell_type": "markdown",
      "metadata": {
        "id": "dp6m6FPDg4ao"
      },
      "source": [
        "# Converting Temperature Units"
      ]
    },
    {
      "cell_type": "code",
      "source": [
        "def celsiusto_fahrenheit(celsius):\n",
        "    return (celsius * 9/5) + 32\n",
        "\n",
        "def fahrenheit_to_celsius(fahrenheit):\n",
        "    return (fahrenheit - 32) * 5/9\n",
        "celsius = 25\n",
        "fahrenheit = 77\n",
        "\n",
        "print(f\"{celsius}°C is equal to {celsiusto_fahrenheit(celsius)}°F.\")\n",
        "print(f\"{fahrenheit}°F is equal to {fahrenheit_to_celsius(fahrenheit)}°C.\")"
      ],
      "metadata": {
        "colab": {
          "base_uri": "https://localhost:8080/"
        },
        "id": "kidupDkriLg2",
        "outputId": "d23befaf-e786-4ea9-f3f8-d7685a8a54f5"
      },
      "execution_count": null,
      "outputs": [
        {
          "output_type": "stream",
          "name": "stdout",
          "text": [
            "25°C is equal to 77.0°F.\n",
            "77°F is equal to 25.0°C.\n"
          ]
        }
      ]
    },
    {
      "cell_type": "markdown",
      "metadata": {
        "id": "WDAwj8lYg4ao"
      },
      "source": [
        "# Generating a List of Squares Using List Comprehension and Functions"
      ]
    },
    {
      "cell_type": "code",
      "source": [
        "def generate_squares(n):\n",
        "    return [i**2 for i in range(1, n+1)]\n",
        "\n",
        "n = 23\n",
        "squares = generate_squares(n)\n",
        "print(squares)"
      ],
      "metadata": {
        "colab": {
          "base_uri": "https://localhost:8080/"
        },
        "id": "RHf9hYZQiL02",
        "outputId": "b0665caa-4f22-401a-f864-db743031c374"
      },
      "execution_count": null,
      "outputs": [
        {
          "output_type": "stream",
          "name": "stdout",
          "text": [
            "[1, 4, 9, 16, 25, 36, 49, 64, 81, 100, 121, 144, 169, 196, 225, 256, 289, 324, 361, 400, 441, 484, 529]\n"
          ]
        }
      ]
    },
    {
      "cell_type": "markdown",
      "metadata": {
        "id": "v4xcY6tyg4ao"
      },
      "source": [
        "# Converting a List of Strings to Uppercase"
      ]
    },
    {
      "cell_type": "code",
      "source": [
        "def convert_to_uppercase(string_list):\n",
        "    return [string.upper() for string in string_list]\n",
        "\n",
        "string_list = [\"Ahmed\", \"Jack\", \"Mostapha\"]\n",
        "uppercase_list = convert_to_uppercase(string_list)\n",
        "print(uppercase_list)"
      ],
      "metadata": {
        "colab": {
          "base_uri": "https://localhost:8080/"
        },
        "id": "8Hzgk7xPiMYi",
        "outputId": "7f03399d-3eb4-4345-8aad-b0d314f286bf"
      },
      "execution_count": null,
      "outputs": [
        {
          "output_type": "stream",
          "name": "stdout",
          "text": [
            "['AHMED', 'JACK', 'MOSTAPHA']\n"
          ]
        }
      ]
    },
    {
      "cell_type": "markdown",
      "metadata": {
        "id": "mltYtj3-g4ap"
      },
      "source": [
        "# Calculating the Total Price Including Tax\n"
      ]
    },
    {
      "cell_type": "code",
      "source": [
        "def calculate_total_price(price, tax_rate):\n",
        "    return price + (price * tax_rate)\n",
        "\n",
        "price = 1012\n",
        "tax_rate = 0.12\n",
        "total_price = calculate_total_price(price, tax_rate)\n",
        "print(f\"total price including tax: {total_price}\")"
      ],
      "metadata": {
        "colab": {
          "base_uri": "https://localhost:8080/"
        },
        "id": "hETFUngDiMz5",
        "outputId": "4c172d45-6a3d-4aad-c4e5-ca7eac98d761"
      },
      "execution_count": null,
      "outputs": [
        {
          "output_type": "stream",
          "name": "stdout",
          "text": [
            "total price including tax: 1133.44\n"
          ]
        }
      ]
    },
    {
      "cell_type": "markdown",
      "metadata": {
        "id": "r9lOIjtdg4ap"
      },
      "source": [
        "# Finding the Minimum and Maximum Values in a List"
      ]
    },
    {
      "cell_type": "code",
      "source": [
        "def find_min_max(values):\n",
        "    minimum = min(values)\n",
        "    maximum = max(values)\n",
        "    return minimum, maximum\n",
        "\n",
        "numbers = [120, 1230, 24,245,29]\n",
        "min_value, max_value = find_min_max(numbers)\n",
        "print(f\"minimum value: {min_value}\")\n",
        "print(f\"maximum value: {max_value}\")"
      ],
      "metadata": {
        "colab": {
          "base_uri": "https://localhost:8080/"
        },
        "id": "dwWklneYiNSG",
        "outputId": "813d206c-c2df-4676-a881-bc1d2c944185"
      },
      "execution_count": null,
      "outputs": [
        {
          "output_type": "stream",
          "name": "stdout",
          "text": [
            "minimum value: 24\n",
            "maximum value: 1230\n"
          ]
        }
      ]
    },
    {
      "cell_type": "markdown",
      "metadata": {
        "id": "zFEiJlHDg4ap"
      },
      "source": [
        "# Checking if a String is a Valid Email Address"
      ]
    },
    {
      "cell_type": "code",
      "source": [
        "def is_valid_email(email):\n",
        "    if '@' not in email:\n",
        "        return False\n",
        "\n",
        "    local_part, domain_part = email.split('@', 1)\n",
        "    if not local_part or not domain_part:\n",
        "        return False\n",
        "    if '.' not in domain_part:\n",
        "        return False\n",
        "\n",
        "    domain_name, extension = domain_part.rsplit('.', 1)\n",
        "    if len(domain_name) < 1 or len(extension) < 2:\n",
        "        return False\n",
        "\n",
        "    valid_chars = \"abcdefghijklmnopqrstuvwxyzABCDEFGHIJKLMNOPQRSTUVWXYZ0123456789._%+-\"\n",
        "    for char in local_part + domain_name + extension:\n",
        "        if char not in valid_chars:\n",
        "            return False\n",
        "\n",
        "    return True\n",
        "\n",
        "email = \"mostaphaabdulaziz@gmail.com\"\n",
        "if is_valid_email(email):\n",
        "    print(f\"{email} is a valid email address.\")\n",
        "else:\n",
        "    print(f\"{email} is not a valid email address.\")"
      ],
      "metadata": {
        "colab": {
          "base_uri": "https://localhost:8080/"
        },
        "id": "dMcuc7mGiNpQ",
        "outputId": "dff5157f-93a4-4b3c-8269-2ef991f91089"
      },
      "execution_count": null,
      "outputs": [
        {
          "output_type": "stream",
          "name": "stdout",
          "text": [
            "mostaphaabdulaziz@gmail.com is a valid email address.\n"
          ]
        }
      ]
    },
    {
      "cell_type": "markdown",
      "metadata": {
        "id": "ltKl3MnIg4ap"
      },
      "source": [
        "# Counting the Frequency of Each Character in a String"
      ]
    },
    {
      "cell_type": "code",
      "source": [
        "def count_characters(s):\n",
        "    # creating an empty dictionary\n",
        "    char_count = {}\n",
        "\n",
        "    for char in s:\n",
        "\n",
        "        if char in char_count:\n",
        "            char_count[char] += 1\n",
        "\n",
        "        else:\n",
        "            char_count[char] = 1\n",
        "\n",
        "    return char_count\n",
        "\n",
        "\n",
        "string = \"Mosapha abdulaziz abdullah\"\n",
        "char_counts = count_characters(string)\n",
        "\n",
        "for char, count in char_counts.items():\n",
        "    print(f\"'{char}': {count}\")"
      ],
      "metadata": {
        "colab": {
          "base_uri": "https://localhost:8080/"
        },
        "id": "lKbRkedciODC",
        "outputId": "9177acf8-ae8c-44af-d825-536f2e200fb2"
      },
      "execution_count": null,
      "outputs": [
        {
          "output_type": "stream",
          "name": "stdout",
          "text": [
            "'M': 1\n",
            "'o': 1\n",
            "'s': 1\n",
            "'a': 6\n",
            "'p': 1\n",
            "'h': 2\n",
            "' ': 2\n",
            "'b': 2\n",
            "'d': 2\n",
            "'u': 2\n",
            "'l': 3\n",
            "'z': 2\n",
            "'i': 1\n"
          ]
        }
      ]
    }
  ],
  "metadata": {
    "kernelspec": {
      "display_name": "base",
      "language": "python",
      "name": "python3"
    },
    "language_info": {
      "codemirror_mode": {
        "name": "ipython",
        "version": 3
      },
      "file_extension": ".py",
      "mimetype": "text/x-python",
      "name": "python",
      "nbconvert_exporter": "python",
      "pygments_lexer": "ipython3",
      "version": "3.11.7"
    },
    "colab": {
      "provenance": []
    }
  },
  "nbformat": 4,
  "nbformat_minor": 0
}